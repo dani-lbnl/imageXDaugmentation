{
 "cells": [
  {
   "cell_type": "code",
   "execution_count": 1,
   "metadata": {
    "collapsed": true
   },
   "outputs": [],
   "source": [
    "import numpy as np"
   ]
  },
  {
   "cell_type": "code",
   "execution_count": 2,
   "metadata": {
    "collapsed": true
   },
   "outputs": [],
   "source": [
    "from skimage import data"
   ]
  },
  {
   "cell_type": "code",
   "execution_count": 3,
   "metadata": {
    "collapsed": true
   },
   "outputs": [],
   "source": [
    "from skimage.draw import circle, polygon"
   ]
  },
  {
   "cell_type": "code",
   "execution_count": 4,
   "metadata": {
    "collapsed": true
   },
   "outputs": [],
   "source": [
    "%matplotlib inline\n",
    "import matplotlib.pyplot as plt"
   ]
  },
  {
   "cell_type": "code",
   "execution_count": 11,
   "metadata": {
    "collapsed": false
   },
   "outputs": [],
   "source": [
    "def rectangeObj(halfwidth, halfheight, centerCoords=(64,128), shape=(128, 256)):\n",
    "    data = np.zeros(shape=shape, dtype=np.int)\n",
    "    minheight = centerCoords[0] - halfheight\n",
    "    maxheight = minheight+ 2* halfheight\n",
    "    minwidth = centerCoords[1] - halfwidth\n",
    "    maxwidth = minwidth + 2 * halfwidth\n",
    "    data[minheight:maxheight , minwidth: maxwidth] = 255\n",
    "    return data, None, None"
   ]
  },
  {
   "cell_type": "code",
   "execution_count": 12,
   "metadata": {
    "collapsed": false
   },
   "outputs": [],
   "source": [
    "def triangleObj(xmin=-30, xmax=50, ymin=-20, ymax=5, centerCoords=(64, 128), shape=(128, 256)):\n",
    "    data = np.zeros(shape=shape, dtype=np.int)\n",
    "    llx = centerCoords[1] + xmin\n",
    "    lrx = centerCoords[1] + xmax\n",
    "    ly = centerCoords[0] + ymin\n",
    "    uy = centerCoords[0] + ymax\n",
    "    print (llx, lrx, ly, uy, centerCoords[0])\n",
    "    rr, cc = polygon(x=np.array([llx, lrx, centerCoords[1]]), y=np.asarray([ly, ly, uy]))\n",
    "    data[rr,cc] = 255\n",
    "    return data, rr, cc"
   ]
  },
  {
   "cell_type": "code",
   "execution_count": 13,
   "metadata": {
    "collapsed": true
   },
   "outputs": [],
   "source": [
    "def circleObj(radius, centerCoords=[64,128],shape=(128, 256)):\n",
    "    data = np.zeros(shape=shape, dtype=int)\n",
    "    #print(centerCoords)\n",
    "    rr, cc = circle(centerCoords[0], centerCoords[1], radius)\n",
    "    data[rr, cc] = 255\n",
    "    return data, rr, cc"
   ]
  },
  {
   "cell_type": "code",
   "execution_count": 14,
   "metadata": {
    "collapsed": false
   },
   "outputs": [
    {
     "data": {
      "image/png": "[encoded data removed]",
      "text/plain": [
       "<matplotlib.figure.Figure at 0x1145d12e8>"
      ]
     },
     "metadata": {},
     "output_type": "display_data"
    }
   ],
   "source": [
    "fig, ax = plt.subplots(1, 3)"
   ]
  },
  {
   "cell_type": "code",
   "execution_count": 15,
   "metadata": {
    "collapsed": false
   },
   "outputs": [
    {
     "name": "stdout",
     "output_type": "stream",
     "text": [
      "98 178 44 69 64\n"
     ]
    }
   ],
   "source": [
    "objs = (rectangeObj(50, 30), circleObj(40), triangleObj())\n",
    "names = ('rectangle', 'circle', 'triangle')\n",
    "for i, data in enumerate(objs):\n",
    "    ax[i].imshow(data[0])\n",
    "    plt.imsave(names[i] + '.png', data[0])"
   ]
  },
  {
   "cell_type": "code",
   "execution_count": 16,
   "metadata": {
    "collapsed": false
   },
   "outputs": [
    {
     "data": {
      "image/png": "[encoded data removed]",
      "text/plain": [
       "<matplotlib.figure.Figure at 0x1145d12e8>"
      ]
     },
     "execution_count": 16,
     "metadata": {},
     "output_type": "execute_result"
    }
   ],
   "source": [
    "fig"
   ]
  },
  {
   "cell_type": "code",
   "execution_count": 20,
   "metadata": {
    "collapsed": true
   },
   "outputs": [],
   "source": [
    "def transform(input_image, trans_type, number=10):\n",
    "    \"\"\"\n",
    "    Parameters\n",
    "    ----------\n",
    "    input_image:\n",
    "    trans_type: \n",
    "    number: int, optional, defaults to 10\n",
    "        number of requested transformations\n",
    "    \"\"\"\n",
    "    return [input_image] * number, trans_type, ['param'] * number"
   ]
  },
  {
   "cell_type": "code",
   "execution_count": 17,
   "metadata": {
    "collapsed": true
   },
   "outputs": [],
   "source": [
    "xx = plt.imread('circle.png')"
   ]
  },
  {
   "cell_type": "code",
   "execution_count": 38,
   "metadata": {
    "collapsed": true
   },
   "outputs": [],
   "source": [
    "from skimage import transform"
   ]
  },
  {
   "cell_type": "code",
   "execution_count": 41,
   "metadata": {
    "collapsed": true
   },
   "outputs": [],
   "source": [
    "def transformAffineBatch(im, trans_type=\"Affine\", nofTransforms=10):\n",
    "    \"\"\"\n",
    "        this function generates nofTransfor random affine transformations and applies them to image im\n",
    "    \"\"\"\n",
    "    listOfTransformedImages = [transform.warp(im,transform.AffineTransform(rotation = np.random.uniform(0,0.1*np.pi))) for i in range(nofTransforms)]\n",
    "    return(listOfTransformedImages), trans_type, np.random.uniform(0, 0.1* np.pi)"
   ]
  },
  {
   "cell_type": "code",
   "execution_count": 60,
   "metadata": {
    "collapsed": false
   },
   "outputs": [
    {
     "name": "stdout",
     "output_type": "stream",
     "text": [
      "['rectangle_Affine_0.png', 'rectangle_Affine_1.png', 'rectangle_Affine_2.png', 'rectangle_Affine_3.png', 'rectangle_Affine_4.png', 'rectangle_Affine_5.png', 'rectangle_Affine_6.png', 'rectangle_Affine_7.png', 'rectangle_Affine_8.png', 'rectangle_Affine_9.png']\n",
      "['circle_Affine_0.png', 'circle_Affine_1.png', 'circle_Affine_2.png', 'circle_Affine_3.png', 'circle_Affine_4.png', 'circle_Affine_5.png', 'circle_Affine_6.png', 'circle_Affine_7.png', 'circle_Affine_8.png', 'circle_Affine_9.png']\n",
      "['triangle_Affine_0.png', 'triangle_Affine_1.png', 'triangle_Affine_2.png', 'triangle_Affine_3.png', 'triangle_Affine_4.png', 'triangle_Affine_5.png', 'triangle_Affine_6.png', 'triangle_Affine_7.png', 'triangle_Affine_8.png', 'triangle_Affine_9.png']\n"
     ]
    }
   ],
   "source": [
    "fnames = ['rectangle.png', 'circle.png', 'triangle.png']\n",
    "num = 10\n",
    "outfiles = []\n",
    "labels = []\n",
    "for fname in fnames:\n",
    "    inp_img = plt.imread(fname)\n",
    "    obj = fname.split('.')[0]\n",
    "    imgs, trans_type, params = transformAffineBatch(inp_img, trans_type='Affine', nofTransforms=num)\n",
    "    outfilenames = list(\"_\".join([obj, trans_type]) +\"_{}.png\".format(ind)  for ind in range(len(imgs)))\n",
    "    print(outfilenames)\n",
    "    for outfile, img in zip(outfilenames, imgs):\n",
    "        plt.imsave(outfile, img, cmap='gray')\n",
    "        outfiles.append(outfile)\n",
    "        labels.append(obj)"
   ]
  },
  {
   "cell_type": "code",
   "execution_count": 61,
   "metadata": {
    "collapsed": false
   },
   "outputs": [
    {
     "data": {
      "text/plain": [
       "['rectangle',\n",
       " 'rectangle',\n",
       " 'rectangle',\n",
       " 'rectangle',\n",
       " 'rectangle',\n",
       " 'rectangle',\n",
       " 'rectangle',\n",
       " 'rectangle',\n",
       " 'rectangle',\n",
       " 'rectangle',\n",
       " 'circle',\n",
       " 'circle',\n",
       " 'circle',\n",
       " 'circle',\n",
       " 'circle',\n",
       " 'circle',\n",
       " 'circle',\n",
       " 'circle',\n",
       " 'circle',\n",
       " 'circle',\n",
       " 'triangle',\n",
       " 'triangle',\n",
       " 'triangle',\n",
       " 'triangle',\n",
       " 'triangle',\n",
       " 'triangle',\n",
       " 'triangle',\n",
       " 'triangle',\n",
       " 'triangle',\n",
       " 'triangle']"
      ]
     },
     "execution_count": 61,
     "metadata": {},
     "output_type": "execute_result"
    }
   ],
   "source": [
    "labels"
   ]
  },
  {
   "cell_type": "code",
   "execution_count": 46,
   "metadata": {
    "collapsed": false
   },
   "outputs": [
    {
     "data": {
      "text/plain": [
       "['rectangle_Affine_0.png',\n",
       " 'rectangle_Affine_1.png',\n",
       " 'rectangle_Affine_2.png',\n",
       " 'rectangle_Affine_3.png',\n",
       " 'rectangle_Affine_4.png',\n",
       " 'rectangle_Affine_5.png',\n",
       " 'rectangle_Affine_6.png',\n",
       " 'rectangle_Affine_7.png',\n",
       " 'rectangle_Affine_8.png',\n",
       " 'rectangle_Affine_9.png',\n",
       " 'circle_Affine_0.png',\n",
       " 'circle_Affine_1.png',\n",
       " 'circle_Affine_2.png',\n",
       " 'circle_Affine_3.png',\n",
       " 'circle_Affine_4.png',\n",
       " 'circle_Affine_5.png',\n",
       " 'circle_Affine_6.png',\n",
       " 'circle_Affine_7.png',\n",
       " 'circle_Affine_8.png',\n",
       " 'circle_Affine_9.png',\n",
       " 'triangle_Affine_0.png',\n",
       " 'triangle_Affine_1.png',\n",
       " 'triangle_Affine_2.png',\n",
       " 'triangle_Affine_3.png',\n",
       " 'triangle_Affine_4.png',\n",
       " 'triangle_Affine_5.png',\n",
       " 'triangle_Affine_6.png',\n",
       " 'triangle_Affine_7.png',\n",
       " 'triangle_Affine_8.png',\n",
       " 'triangle_Affine_9.png']"
      ]
     },
     "execution_count": 46,
     "metadata": {},
     "output_type": "execute_result"
    }
   ],
   "source": [
    "outfiles"
   ]
  },
  {
   "cell_type": "code",
   "execution_count": 55,
   "metadata": {
    "collapsed": false
   },
   "outputs": [],
   "source": [
    "with open('images.csv', 'w') as f:\n",
    "    for i in range(len(outfiles)):\n",
    "        f.write(outfiles[i]+','+labels[i]+'\\n')"
   ]
  },
  {
   "cell_type": "code",
   "execution_count": null,
   "metadata": {
    "collapsed": true
   },
   "outputs": [],
   "source": []
  }
 ],
 "metadata": {
  "kernelspec": {
   "display_name": "Python 3",
   "language": "python",
   "name": "python3"
  },
  "language_info": {
   "codemirror_mode": {
    "name": "ipython",
    "version": 3
   },
   "file_extension": ".py",
   "mimetype": "text/x-python",
   "name": "python",
   "nbconvert_exporter": "python",
   "pygments_lexer": "ipython3",
   "version": "3.5.1"
  }
 },
 "nbformat": 4,
 "nbformat_minor": 0
}
